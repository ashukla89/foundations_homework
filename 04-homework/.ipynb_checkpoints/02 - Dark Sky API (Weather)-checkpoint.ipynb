{
 "cells": [
  {
   "cell_type": "markdown",
   "metadata": {},
   "source": [
    "# Dark Sky API (Weather)\n",
    "\n",
    "Answer the following questions using the [Dark Sky API](https://darksky.net/dev/). I've added three cells for each question but you're free to use more or less! Hold `Shift` and hit `Enter` to run a cell, and use the `+` on the top left to add a new cell to a notebook.\n",
    "\n",
    "If you spend some time reading the documentation your life will probably be a little bit easier!\n",
    "\n",
    "## 0) Import any libraries you might need\n",
    "\n",
    "- *Tip: We're going to be downloading things from the internet, so we probably need `requests`.*"
   ]
  },
  {
   "cell_type": "code",
   "execution_count": 1,
   "metadata": {},
   "outputs": [],
   "source": [
    "import requests"
   ]
  },
  {
   "cell_type": "markdown",
   "metadata": {
    "collapsed": true
   },
   "source": [
    "## 1) Make a request from the Dark Sky API for where you were born (or lived, or want to visit!).\n",
    "\n",
    "- *Tip: The URL we used in class was for a place near San Francisco. What was the format of the endpoint that made this happen?*\n",
    "- *Tip: Save the URL as a separate variable, and be sure to not have `[` and `]` inside.*\n",
    "- *Tip: How is north vs. south and east vs. west latitude/longitude represented? Is it the normal North/South/East/West?*\n",
    "- *Tip: You know it's JSON, but Python doesn't! Make sure you aren't trying to deal with plain text.* \n",
    "- *Tip: Once you've imported the JSON into a variable, check the timezone's name to make sure it seems like it got the right part of the world!*"
   ]
  },
  {
   "cell_type": "code",
   "execution_count": 1,
   "metadata": {},
   "outputs": [],
   "source": [
    "# create file with top-secret API key (which is specified in that file separately)\n",
    "#!touch .env"
   ]
  },
  {
   "cell_type": "code",
   "execution_count": 9,
   "metadata": {},
   "outputs": [],
   "source": [
    "# specify top-secret API key\n",
    "from dotenv import load_dotenv\n",
    "load_dotenv()\n",
    "import os\n",
    "\n",
    "API_KEY = os.getenv(\"DARKSKY_API_KEY\")"
   ]
  },
  {
   "cell_type": "code",
   "execution_count": 11,
   "metadata": {},
   "outputs": [
    {
     "name": "stdout",
     "output_type": "stream",
     "text": [
      "https://api.darksky.net/forecast/1f0a5e4578aca3f6c74d96e451f6329a/64.8378,-147.7164\n"
     ]
    }
   ],
   "source": [
    "base_url = 'https://api.darksky.net/forecast/' + API_KEY + '/'\n",
    "location = '64.8378,-147.7164' # Fairbanks, AK\n",
    "print(base_url+location)"
   ]
  },
  {
   "cell_type": "markdown",
   "metadata": {},
   "source": [
    "## 2) What's the current wind speed? How much warmer does it feel than it actually is?\n",
    "\n",
    "- *Tip: You can do this by browsing through the dictionaries, but it might be easier to read the documentation*\n",
    "- *Tip: For the second half: it **is** one temperature, and it **feels** a different temperature. Calculate the difference.*"
   ]
  },
  {
   "cell_type": "code",
   "execution_count": 12,
   "metadata": {},
   "outputs": [],
   "source": [
    "response = requests.get(base_url+location)"
   ]
  },
  {
   "cell_type": "code",
   "execution_count": 14,
   "metadata": {},
   "outputs": [],
   "source": [
    "fairb = response.json()"
   ]
  },
  {
   "cell_type": "code",
   "execution_count": 17,
   "metadata": {},
   "outputs": [
    {
     "name": "stdout",
     "output_type": "stream",
     "text": [
      "The current wind speed is 1.6 mph.\n"
     ]
    }
   ],
   "source": [
    "print(\"The current wind speed is\",fairb['currently']['windSpeed'],\"mph.\")"
   ]
  },
  {
   "cell_type": "code",
   "execution_count": 18,
   "metadata": {},
   "outputs": [
    {
     "name": "stdout",
     "output_type": "stream",
     "text": [
      "It currently feels 0.0 degrees warmer than it is.\n"
     ]
    }
   ],
   "source": [
    "print(f\"It currently feels {fairb['currently']['apparentTemperature'] - fairb['currently']['temperature']} degrees warmer than it is.\")"
   ]
  },
  {
   "cell_type": "markdown",
   "metadata": {},
   "source": [
    "## 3) Today's forecast is the FIRST daily forecast. For the place you decided on above, how much of the moon is currently visible?\n",
    "\n",
    "- *Tip: This does **not** use the `currently` key.*\n",
    "- *Tip: It might be helpful to save the forecast into its own variable*"
   ]
  },
  {
   "cell_type": "code",
   "execution_count": 22,
   "metadata": {},
   "outputs": [],
   "source": [
    "today = fairb['daily']['data'][0]"
   ]
  },
  {
   "cell_type": "code",
   "execution_count": 25,
   "metadata": {},
   "outputs": [
    {
     "name": "stdout",
     "output_type": "stream",
     "text": [
      "Today in Fairbanks, 12.0 percent of the moon is visible.\n"
     ]
    }
   ],
   "source": [
    "print(f\"Today in Fairbanks, {today['moonPhase'] * 100:} percent of the moon is visible.\")"
   ]
  },
  {
   "cell_type": "markdown",
   "metadata": {},
   "source": [
    "## 4) What's the difference between the high and low temperatures for today?"
   ]
  },
  {
   "cell_type": "code",
   "execution_count": 26,
   "metadata": {},
   "outputs": [
    {
     "data": {
      "text/plain": [
       "dict_keys(['time', 'summary', 'icon', 'sunriseTime', 'sunsetTime', 'moonPhase', 'precipIntensity', 'precipIntensityMax', 'precipIntensityMaxTime', 'precipProbability', 'precipType', 'temperatureHigh', 'temperatureHighTime', 'temperatureLow', 'temperatureLowTime', 'apparentTemperatureHigh', 'apparentTemperatureHighTime', 'apparentTemperatureLow', 'apparentTemperatureLowTime', 'dewPoint', 'humidity', 'pressure', 'windSpeed', 'windGust', 'windGustTime', 'windBearing', 'cloudCover', 'uvIndex', 'uvIndexTime', 'visibility', 'ozone', 'temperatureMin', 'temperatureMinTime', 'temperatureMax', 'temperatureMaxTime', 'apparentTemperatureMin', 'apparentTemperatureMinTime', 'apparentTemperatureMax', 'apparentTemperatureMaxTime'])"
      ]
     },
     "execution_count": 26,
     "metadata": {},
     "output_type": "execute_result"
    }
   ],
   "source": [
    "today.keys()"
   ]
  },
  {
   "cell_type": "code",
   "execution_count": 30,
   "metadata": {},
   "outputs": [
    {
     "name": "stdout",
     "output_type": "stream",
     "text": [
      "The difference between the high and low temperatures today in Fairbanks is 18.84 degrees F.\n"
     ]
    }
   ],
   "source": [
    "print(f\"The difference between the high and low temperatures today in Fairbanks is {today['temperatureHigh'] - today['temperatureLow']:.2f} degrees F.\")"
   ]
  },
  {
   "cell_type": "markdown",
   "metadata": {},
   "source": [
    "## 5) Go through the daily forecasts, printing out the next week's worth of predictions.\n",
    "\n",
    "I'd like to know the **high temperature** for each day, and whether it's **hot, warm, or cold** (based on what temperatures you think are hot, warm or cold).\n",
    "\n",
    "- *Tip: Is it returning F or C? You can change them by adding `?units=us` or `?units=si` onto the end of the URL.*\n",
    "- *Tip: You'll need to use an `if` statement to say whether it is hot, warm or cold.*"
   ]
  },
  {
   "cell_type": "code",
   "execution_count": 36,
   "metadata": {},
   "outputs": [
    {
     "name": "stdout",
     "output_type": "stream",
     "text": [
      "It is warm (69.53 F) in Fairbanks on 2019-06-06.\n",
      "It is warm (72.63 F) in Fairbanks on 2019-06-07.\n",
      "It is warm (75.14 F) in Fairbanks on 2019-06-08.\n",
      "It is warm (77.71 F) in Fairbanks on 2019-06-09.\n",
      "It is warm (77.09 F) in Fairbanks on 2019-06-10.\n",
      "It is warm (77.71 F) in Fairbanks on 2019-06-11.\n",
      "It is warm (76.65 F) in Fairbanks on 2019-06-12.\n",
      "It is warm (76.55 F) in Fairbanks on 2019-06-13.\n"
     ]
    }
   ],
   "source": [
    "from datetime import datetime\n",
    "\n",
    "for day in fairb['daily']['data']:\n",
    "    high = day['temperatureHigh']\n",
    "    date = datetime.fromtimestamp(day['time']).date()\n",
    "    if high > 80:\n",
    "        print(f\"It is hot ({high} F) in Fairbanks on {date}.\")\n",
    "    if high > 65:\n",
    "        print(f\"It is warm ({high} F) in Fairbanks on {date}.\")\n",
    "    else:\n",
    "        print(f\"It is cool to cold ({high} F) in Fairbanks on {date}.\")"
   ]
  },
  {
   "cell_type": "markdown",
   "metadata": {},
   "source": [
    "# 6) What will be the hottest day in the next week? What is the high temperature on that day?\n",
    "\n",
    "It's okay if your result looks like `1453363200`. If you want to be extra-fancy, though, format it as a **real date** - the weird number is called a **UNIX timestamp**, which might help in googling.\n",
    "\n",
    "- *Tip: It's okay to skip this if it seems too difficult!*"
   ]
  },
  {
   "cell_type": "code",
   "execution_count": 58,
   "metadata": {},
   "outputs": [
    {
     "name": "stdout",
     "output_type": "stream",
     "text": [
      "2019-06-09 is the warmest day (or at least ties another such day).\n",
      "2019-06-11 is the warmest day (or at least ties another such day).\n"
     ]
    }
   ],
   "source": [
    "temps = [day['temperatureHigh'] for day in fairb['daily']['data']]\n",
    "\n",
    "warmest = max(temps)\n",
    "for day in fairb['daily']['data']:\n",
    "    high = day['temperatureHigh']\n",
    "    date = datetime.fromtimestamp(day['time']).date()\n",
    "    if high == warmest:\n",
    "        print(f\"{date} is the warmest day (or at least ties another such day).\")"
   ]
  },
  {
   "cell_type": "markdown",
   "metadata": {},
   "source": [
    "## 7) What's the weather looking like for the next 24+ hours in Miami, Florida?\n",
    "\n",
    "I'd like to know the temperature for every hour, and if it's going to have cloud cover of more than 50% say \"{temperature} and cloudy\" instead of just the temperature. \n",
    "\n",
    "\n",
    "- *Tip: Be sure to remember how latitude and longitude are done with positive and negative numbers*\n",
    "- *Tip: How do you represent \"50%\" for cloud cover?*"
   ]
  },
  {
   "cell_type": "code",
   "execution_count": 44,
   "metadata": {},
   "outputs": [],
   "source": [
    "location = '25.7617,-80.1918' # welcome to Miami\n",
    "response = requests.get(base_url+location)\n",
    "miami = response.json()"
   ]
  },
  {
   "cell_type": "code",
   "execution_count": 52,
   "metadata": {},
   "outputs": [
    {
     "name": "stdout",
     "output_type": "stream",
     "text": [
      "At 2019-06-06 16:00:00 in Miami it is 88.43 and cloudy.\n",
      "At 2019-06-06 17:00:00 in Miami it is 87.68 and cloudy.\n",
      "At 2019-06-06 18:00:00 in Miami it is 87.3 and cloudy.\n",
      "At 2019-06-06 19:00:00 in Miami it is 86.24 and cloudy.\n",
      "At 2019-06-06 20:00:00 in Miami it is 84.62.\n",
      "At 2019-06-06 21:00:00 in Miami it is 83.34 and cloudy.\n",
      "At 2019-06-06 22:00:00 in Miami it is 82.75 and cloudy.\n",
      "At 2019-06-06 23:00:00 in Miami it is 81.98 and cloudy.\n",
      "At 2019-06-07 00:00:00 in Miami it is 81.53 and cloudy.\n",
      "At 2019-06-07 01:00:00 in Miami it is 81.23 and cloudy.\n",
      "At 2019-06-07 02:00:00 in Miami it is 79.36 and cloudy.\n",
      "At 2019-06-07 03:00:00 in Miami it is 77.84 and cloudy.\n",
      "At 2019-06-07 04:00:00 in Miami it is 77.65 and cloudy.\n",
      "At 2019-06-07 05:00:00 in Miami it is 77.82 and cloudy.\n",
      "At 2019-06-07 06:00:00 in Miami it is 77.94 and cloudy.\n",
      "At 2019-06-07 07:00:00 in Miami it is 78.71 and cloudy.\n",
      "At 2019-06-07 08:00:00 in Miami it is 79.89 and cloudy.\n",
      "At 2019-06-07 09:00:00 in Miami it is 82.13 and cloudy.\n",
      "At 2019-06-07 10:00:00 in Miami it is 83.77 and cloudy.\n",
      "At 2019-06-07 11:00:00 in Miami it is 84.78 and cloudy.\n",
      "At 2019-06-07 12:00:00 in Miami it is 86.45 and cloudy.\n",
      "At 2019-06-07 13:00:00 in Miami it is 88.65 and cloudy.\n",
      "At 2019-06-07 14:00:00 in Miami it is 89.78 and cloudy.\n",
      "At 2019-06-07 15:00:00 in Miami it is 89.8 and cloudy.\n",
      "At 2019-06-07 16:00:00 in Miami it is 89.17 and cloudy.\n",
      "At 2019-06-07 17:00:00 in Miami it is 88.25 and cloudy.\n",
      "At 2019-06-07 18:00:00 in Miami it is 87.37 and cloudy.\n",
      "At 2019-06-07 19:00:00 in Miami it is 86.35 and cloudy.\n",
      "At 2019-06-07 20:00:00 in Miami it is 85.56 and cloudy.\n",
      "At 2019-06-07 21:00:00 in Miami it is 84.87 and cloudy.\n",
      "At 2019-06-07 22:00:00 in Miami it is 84.31 and cloudy.\n",
      "At 2019-06-07 23:00:00 in Miami it is 83.53 and cloudy.\n",
      "At 2019-06-08 00:00:00 in Miami it is 82.82 and cloudy.\n",
      "At 2019-06-08 01:00:00 in Miami it is 82.25 and cloudy.\n",
      "At 2019-06-08 02:00:00 in Miami it is 80.16 and cloudy.\n",
      "At 2019-06-08 03:00:00 in Miami it is 78.15 and cloudy.\n",
      "At 2019-06-08 04:00:00 in Miami it is 77.41 and cloudy.\n",
      "At 2019-06-08 05:00:00 in Miami it is 77.23 and cloudy.\n",
      "At 2019-06-08 06:00:00 in Miami it is 77.66 and cloudy.\n",
      "At 2019-06-08 07:00:00 in Miami it is 78.55 and cloudy.\n",
      "At 2019-06-08 08:00:00 in Miami it is 80.24 and cloudy.\n",
      "At 2019-06-08 09:00:00 in Miami it is 82.76 and cloudy.\n",
      "At 2019-06-08 10:00:00 in Miami it is 84.83 and cloudy.\n",
      "At 2019-06-08 11:00:00 in Miami it is 86.39.\n",
      "At 2019-06-08 12:00:00 in Miami it is 87.3.\n",
      "At 2019-06-08 13:00:00 in Miami it is 90.22.\n",
      "At 2019-06-08 14:00:00 in Miami it is 91.77.\n",
      "At 2019-06-08 15:00:00 in Miami it is 91.88.\n",
      "At 2019-06-08 16:00:00 in Miami it is 90.99.\n"
     ]
    }
   ],
   "source": [
    "for hour in miami['hourly']['data']:\n",
    "    time = datetime.fromtimestamp(hour['time'])\n",
    "    if hour['cloudCover'] > 0.5:\n",
    "        print(f\"At {time} in Miami it is {hour['temperature']} and cloudy.\")\n",
    "    else:\n",
    "        print(f\"At {time} in Miami it is {hour['temperature']}.\")"
   ]
  },
  {
   "cell_type": "markdown",
   "metadata": {},
   "source": [
    "# 8) For the next 24-ish hours in Miami, what percent of the time is the temperature above 85 degrees?\n",
    "\n",
    "If they give you 48 hours instead of 24, that's okay.\n",
    "\n",
    "- *Tip: You might want to read up on [looping patterns](http://jonathansoma.com/lede/foundations-2017/classes/data%20structures/looping-patterns/)*"
   ]
  },
  {
   "cell_type": "code",
   "execution_count": 57,
   "metadata": {},
   "outputs": [
    {
     "name": "stdout",
     "output_type": "stream",
     "text": [
      "Over the next 49 hours in Miami, it will be above 85 degrees F 38.78% of the time.\n"
     ]
    }
   ],
   "source": [
    "hours = len(miami['hourly']['data'])\n",
    "above_85_hours = 0\n",
    "for hour in miami['hourly']['data']:\n",
    "    if hour['temperature'] > 85:\n",
    "        above_85_hours += 1\n",
    "print(f\"Over the next {hours} hours in Miami, it will be above 85 degrees F {above_85_hours / hours * 100:.2f}% of the time.\")"
   ]
  },
  {
   "cell_type": "markdown",
   "metadata": {},
   "source": [
    "## 9) What was the temperature in Central Park on Christmas Day, 2012? How about 2007? 2005? How far back does the API allow you to go?\n",
    "\n",
    "- *Tip: You'll need to use UNIX time, which is the number of seconds since January 1, 1970. Google can help you convert a normal date!*\n",
    "- *Tip: You'll want to use Forecast.io's \"time machine\" API, [documentation here](https://darksky.net/dev/docs/time-machine)*"
   ]
  },
  {
   "cell_type": "code",
   "execution_count": 59,
   "metadata": {},
   "outputs": [],
   "source": [
    "location = '40.7829,-73.9654' # Central Park, NYC"
   ]
  },
  {
   "cell_type": "markdown",
   "metadata": {},
   "source": [
    "### Christmas 2012"
   ]
  },
  {
   "cell_type": "code",
   "execution_count": 71,
   "metadata": {},
   "outputs": [],
   "source": [
    "ts = '1356411600'\n",
    "response = requests.get(base_url+location+','+ts)\n",
    "nyc12 = response.json()"
   ]
  },
  {
   "cell_type": "code",
   "execution_count": 88,
   "metadata": {},
   "outputs": [
    {
     "name": "stdout",
     "output_type": "stream",
     "text": [
      "The high temp in Central Park on Christmas 2012 was 40.28 F.\n"
     ]
    }
   ],
   "source": [
    "print(f\"The high temp in Central Park on Christmas 2012 was {nyc12['daily']['data'][0]['temperatureHigh']} F.\")"
   ]
  },
  {
   "cell_type": "markdown",
   "metadata": {},
   "source": [
    "### Christmas 2007"
   ]
  },
  {
   "cell_type": "code",
   "execution_count": 92,
   "metadata": {},
   "outputs": [
    {
     "name": "stdout",
     "output_type": "stream",
     "text": [
      "The high temp in Central Park on Christmas 2007 was 42.33 F.\n"
     ]
    }
   ],
   "source": [
    "ts = '1198558800'\n",
    "response = requests.get(base_url+location+','+ts)\n",
    "nyc07 = response.json()\n",
    "print(f\"The high temp in Central Park on Christmas 2007 was {nyc07['daily']['data'][0]['temperatureHigh']} F.\")"
   ]
  },
  {
   "cell_type": "markdown",
   "metadata": {},
   "source": [
    "### Christmas 2005"
   ]
  },
  {
   "cell_type": "code",
   "execution_count": 91,
   "metadata": {},
   "outputs": [
    {
     "name": "stdout",
     "output_type": "stream",
     "text": [
      "The high temp in Central Park on Christmas 2005 was 45.73 F.\n"
     ]
    }
   ],
   "source": [
    "# Christmas 2005\n",
    "ts = '1135486800'\n",
    "response = requests.get(base_url+location+','+ts)\n",
    "nyc05 = response.json()\n",
    "print(f\"The high temp in Central Park on Christmas 2005 was {nyc05['daily']['data'][0]['temperatureHigh']} F.\")"
   ]
  },
  {
   "cell_type": "markdown",
   "metadata": {},
   "source": [
    "### How far back can we go?"
   ]
  },
  {
   "cell_type": "code",
   "execution_count": 111,
   "metadata": {},
   "outputs": [],
   "source": [
    "# let's look back to 1900\n",
    "years = [year for year in range(1900,2005)]\n",
    "years = years[::-1] # reverse the order so we can loop backward"
   ]
  },
  {
   "cell_type": "code",
   "execution_count": 112,
   "metadata": {},
   "outputs": [
    {
     "name": "stdout",
     "output_type": "stream",
     "text": [
      "The high temp in Central Park on Christmas 2004 was 31.5 F.\n",
      "The high temp in Central Park on Christmas 2003 was 42.45 F.\n",
      "The high temp in Central Park on Christmas 2002 was 36.51 F.\n",
      "The high temp in Central Park on Christmas 2001 was 37.9 F.\n",
      "The high temp in Central Park on Christmas 2000 was 21.41 F.\n",
      "The high temp in Central Park on Christmas 1999 was 28.39 F.\n",
      "The high temp in Central Park on Christmas 1998 was 33.58 F.\n",
      "The high temp in Central Park on Christmas 1997 was 49.34 F.\n",
      "The high temp in Central Park on Christmas 1996 was 35.25 F.\n",
      "The high temp in Central Park on Christmas 1995 was 35.06 F.\n",
      "The high temp in Central Park on Christmas 1994 was 56.07 F.\n",
      "The high temp in Central Park on Christmas 1993 was 33.93 F.\n",
      "The high temp in Central Park on Christmas 1992 was 36.23 F.\n",
      "The high temp in Central Park on Christmas 1991 was 39.56 F.\n",
      "The high temp in Central Park on Christmas 1990 was 30.29 F.\n",
      "The high temp in Central Park on Christmas 1989 was 25.34 F.\n",
      "The high temp in Central Park on Christmas 1988 was 49.45 F.\n",
      "The high temp in Central Park on Christmas 1987 was 52.07 F.\n",
      "The high temp in Central Park on Christmas 1986 was 51.13 F.\n",
      "The high temp in Central Park on Christmas 1985 was 33.94 F.\n",
      "The high temp in Central Park on Christmas 1984 was 44.88 F.\n",
      "The high temp in Central Park on Christmas 1983 was 10.33 F.\n",
      "The high temp in Central Park on Christmas 1982 was 60.23 F.\n",
      "The high temp in Central Park on Christmas 1981 was 38.39 F.\n",
      "The high temp in Central Park on Christmas 1980 was 5.81 F.\n",
      "The high temp in Central Park on Christmas 1979 was 55.67 F.\n",
      "The high temp in Central Park on Christmas 1978 was 42.44 F.\n",
      "The high temp in Central Park on Christmas 1977 was 47.85 F.\n",
      "The high temp in Central Park on Christmas 1976 was 35.65 F.\n",
      "The high temp in Central Park on Christmas 1975 was 31.36 F.\n",
      "The high temp in Central Park on Christmas 1974 was 38.66 F.\n",
      "The high temp in Central Park on Christmas 1973 was 39.54 F.\n",
      "The high temp in Central Park on Christmas 1972 was 41.7 F.\n",
      "The high temp in Central Park on Christmas 1971 was 40.24 F.\n",
      "The high temp in Central Park on Christmas 1970 was 33.67 F.\n",
      "The high temp in Central Park on Christmas 1969 was 27.4 F.\n",
      "The high temp in Central Park on Christmas 1968 was 18.74 F.\n",
      "The high temp in Central Park on Christmas 1967 was 42.42 F.\n",
      "The high temp in Central Park on Christmas 1966 was 32.27 F.\n",
      "The high temp in Central Park on Christmas 1965 was 54.46 F.\n",
      "The high temp in Central Park on Christmas 1964 was 56.53 F.\n",
      "The high temp in Central Park on Christmas 1963 was 35.69 F.\n",
      "The high temp in Central Park on Christmas 1962 was 33.11 F.\n",
      "The high temp in Central Park on Christmas 1961 was 33.67 F.\n",
      "The high temp in Central Park on Christmas 1960 was 39.3 F.\n",
      "The high temp in Central Park on Christmas 1959 was 38.59 F.\n",
      "The high temp in Central Park on Christmas 1958 was 21.86 F.\n",
      "The high temp in Central Park on Christmas 1957 was 44.89 F.\n",
      "The high temp in Central Park on Christmas 1956 was 42.89 F.\n",
      "The high temp in Central Park on Christmas 1955 was 49.62 F.\n",
      "The high temp in Central Park on Christmas 1954 was 38.11 F.\n",
      "The high temp in Central Park on Christmas 1953 was 44.52 F.\n",
      "The high temp in Central Park on Christmas 1952 was 44.08 F.\n",
      "The high temp in Central Park on Christmas 1951 was 34.6 F.\n",
      "The high temp in Central Park on Christmas 1950 was 28.63 F.\n",
      "The high temp in Central Park on Christmas 1949 was 39.3 F.\n",
      "The high temp in Central Park on Christmas 1948 was 24.63 F.\n",
      "The high temp in Central Park on Christmas 1947 was 30.1 F.\n",
      "The high temp in Central Park on Christmas 1946 was 35.02 F.\n",
      "The high temp in Central Park on Christmas 1945 was 43.23 F.\n",
      "The high temp in Central Park on Christmas 1944 was 42.49 F.\n",
      "The high temp in Central Park on Christmas 1943 was 33.26 F.\n",
      "The high temp in Central Park on Christmas 1942 was 46.46 F.\n",
      "The high temp in Central Park on Christmas 1941 was 49.33 F.\n",
      "The high temp in Central Park on Christmas 1940 was 58.33 F.\n",
      "The high temp in Central Park on Christmas 1939 was 37.45 F.\n",
      "The high temp in Central Park on Christmas 1938 was 41.4 F.\n",
      "The high temp in Central Park on Christmas 1937 was 47.36 F.\n",
      "The high temp in Central Park on Christmas 1936 was not returned by the API.\n",
      "The high temp in Central Park on Christmas 1935 was not returned by the API.\n",
      "The high temp in Central Park on Christmas 1934 was not returned by the API.\n",
      "The high temp in Central Park on Christmas 1933 was not returned by the API.\n",
      "The high temp in Central Park on Christmas 1932 was not returned by the API.\n",
      "The high temp in Central Park on Christmas 1931 was not returned by the API.\n",
      "The high temp in Central Park on Christmas 1930 was not returned by the API.\n",
      "The high temp in Central Park on Christmas 1929 was not returned by the API.\n",
      "The high temp in Central Park on Christmas 1928 was not returned by the API.\n",
      "The high temp in Central Park on Christmas 1927 was not returned by the API.\n",
      "The high temp in Central Park on Christmas 1926 was not returned by the API.\n",
      "The high temp in Central Park on Christmas 1925 was not returned by the API.\n",
      "The high temp in Central Park on Christmas 1924 was not returned by the API.\n",
      "The high temp in Central Park on Christmas 1923 was not returned by the API.\n",
      "The high temp in Central Park on Christmas 1922 was not returned by the API.\n",
      "The high temp in Central Park on Christmas 1921 was not returned by the API.\n",
      "The high temp in Central Park on Christmas 1920 was not returned by the API.\n",
      "The high temp in Central Park on Christmas 1919 was not returned by the API.\n",
      "The high temp in Central Park on Christmas 1918 was not returned by the API.\n",
      "The high temp in Central Park on Christmas 1917 was not returned by the API.\n",
      "The high temp in Central Park on Christmas 1916 was not returned by the API.\n",
      "The high temp in Central Park on Christmas 1915 was not returned by the API.\n",
      "The high temp in Central Park on Christmas 1914 was not returned by the API.\n",
      "The high temp in Central Park on Christmas 1913 was not returned by the API.\n",
      "The high temp in Central Park on Christmas 1912 was not returned by the API.\n",
      "The high temp in Central Park on Christmas 1911 was not returned by the API.\n",
      "The high temp in Central Park on Christmas 1910 was not returned by the API.\n",
      "The high temp in Central Park on Christmas 1909 was not returned by the API.\n",
      "The high temp in Central Park on Christmas 1908 was not returned by the API.\n",
      "The high temp in Central Park on Christmas 1907 was not returned by the API.\n",
      "The high temp in Central Park on Christmas 1906 was not returned by the API.\n",
      "The high temp in Central Park on Christmas 1905 was not returned by the API.\n",
      "The high temp in Central Park on Christmas 1904 was not returned by the API.\n",
      "The high temp in Central Park on Christmas 1903 was not returned by the API.\n",
      "The high temp in Central Park on Christmas 1902 was not returned by the API.\n",
      "The high temp in Central Park on Christmas 1901 was not returned by the API.\n",
      "The high temp in Central Park on Christmas 1900 was not returned by the API.\n"
     ]
    }
   ],
   "source": [
    "for year in years:\n",
    "    ts = datetime(year,12,25,5,0).strftime('%s') # Convert date to unix. 5am UTC is midnight in EST\n",
    "    response = requests.get(base_url+location+','+ts)\n",
    "    nyc = response.json()\n",
    "    if 'daily' in nyc.keys(): \n",
    "        print(f\"The high temp in Central Park on Christmas {year} was {nyc['daily']['data'][0]['temperatureHigh']} F.\")\n",
    "    else:\n",
    "        print(f\"The high temp in Central Park on Christmas {year} was not returned by the API.\")"
   ]
  },
  {
   "cell_type": "code",
   "execution_count": null,
   "metadata": {},
   "outputs": [],
   "source": []
  }
 ],
 "metadata": {
  "kernelspec": {
   "display_name": "Python 3",
   "language": "python",
   "name": "python3"
  },
  "language_info": {
   "codemirror_mode": {
    "name": "ipython",
    "version": 3
   },
   "file_extension": ".py",
   "mimetype": "text/x-python",
   "name": "python",
   "nbconvert_exporter": "python",
   "pygments_lexer": "ipython3",
   "version": "3.7.1"
  }
 },
 "nbformat": 4,
 "nbformat_minor": 1
}

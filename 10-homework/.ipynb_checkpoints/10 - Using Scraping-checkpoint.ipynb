{
 "cells": [
  {
   "cell_type": "code",
   "execution_count": 1,
   "metadata": {},
   "outputs": [],
   "source": [
    "import pandas as pd\n",
    "import requests\n",
    "from bs4 import BeautifulSoup\n",
    "\n",
    "import datetime\n",
    "right_now = datetime.datetime.now()\n",
    "date_string = right_now.strftime(\"%Y-%m-%d-%-I%p\")"
   ]
  },
  {
   "cell_type": "code",
   "execution_count": 2,
   "metadata": {},
   "outputs": [],
   "source": [
    "# specify top-secret API keys\n",
    "from dotenv import load_dotenv\n",
    "load_dotenv()\n",
    "import os\n",
    "\n",
    "MAILGUN_API_KEY = os.getenv(\"MAILGUN_API_KEY\")"
   ]
  },
  {
   "cell_type": "code",
   "execution_count": 3,
   "metadata": {},
   "outputs": [],
   "source": [
    "response = requests.get('https://www.politico.com')\n",
    "doc = BeautifulSoup(response.text)"
   ]
  },
  {
   "cell_type": "code",
   "execution_count": 4,
   "metadata": {},
   "outputs": [],
   "source": [
    "headlines = doc.find_all(class_='headline')\n",
    "rows = []\n",
    "message = \"\"\n",
    "for headline in headlines:\n",
    "    row = {}\n",
    "    try:\n",
    "        if \"{\" not in headline.text.strip():\n",
    "            row['Headline'] = headline.text.strip()\n",
    "            message += ('\\n' + headline.text.strip()+'\\n')\n",
    "    except:\n",
    "        pass\n",
    "    try:\n",
    "        if \"{\" not in headline.text.strip():\n",
    "            row['URL'] = headline.find('a')['href']\n",
    "            message += \"Link: \" + (headline.find('a')['href']+'\\n')\n",
    "    except:\n",
    "        row['URL'] = headline.parent.parent.parent['href']\n",
    "        message += \"Link: \" + (headline.parent.parent.parent['href']) + '\\n'\n",
    "    authors = headline.parent.find_all(class_='vcard')\n",
    "    if len(authors) > 0:\n",
    "        row['Byline'] = \" and \".join([author.text.strip() for author in authors])\n",
    "        message += \"By: \" + \" and \".join([author.text.strip() for author in authors]) + '\\n'\n",
    "    else:\n",
    "        pass\n",
    "    try:\n",
    "        row['Sub_header'] = headline.parent.find(class_='tease').text.strip()\n",
    "        message += \"Quick summary: \" + headline.parent.find(class_='tease').text.strip() + '\\n'\n",
    "    except:\n",
    "        pass\n",
    "    rows.append(row)\n",
    "    message += \"\\n------\\n\"\n",
    "df = pd.DataFrame(rows[:-1]) # last isn't actually article\n",
    "df.to_csv('briefing-'+date_string+'.csv',index=False)"
   ]
  },
  {
   "cell_type": "code",
   "execution_count": 7,
   "metadata": {},
   "outputs": [],
   "source": [
    "time = right_now.strftime(\"%-I%p\")\n",
    "subject = f\"Here is your {time} briefing from Politico\""
   ]
  },
  {
   "cell_type": "code",
   "execution_count": 6,
   "metadata": {},
   "outputs": [],
   "source": [
    "response = requests.post(\n",
    "        \"https://api.mailgun.net/v3/sandbox4591da35f7e9429989169172d04cb10d.mailgun.org/messages\",\n",
    "        auth=(\"api\", MAILGUN_API_KEY),\n",
    "        files=[(\"attachment\", open(\"briefing-\"+date_string+\".csv\"))],\n",
    "        data={\"from\": \"Excited User <mailgun@sandbox4591da35f7e9429989169172d04cb10d.mailgun.org>\",\n",
    "              \"to\": [\"aseem.a.shukla@gmail.com\"],\n",
    "              \"subject\": subject,\n",
    "              \"text\": message}) "
   ]
  },
  {
   "cell_type": "code",
   "execution_count": null,
   "metadata": {},
   "outputs": [],
   "source": []
  }
 ],
 "metadata": {
  "kernelspec": {
   "display_name": "Python 3",
   "language": "python",
   "name": "python3"
  },
  "language_info": {
   "codemirror_mode": {
    "name": "ipython",
    "version": 3
   },
   "file_extension": ".py",
   "mimetype": "text/x-python",
   "name": "python",
   "nbconvert_exporter": "python",
   "pygments_lexer": "ipython3",
   "version": "3.7.1"
  }
 },
 "nbformat": 4,
 "nbformat_minor": 2
}

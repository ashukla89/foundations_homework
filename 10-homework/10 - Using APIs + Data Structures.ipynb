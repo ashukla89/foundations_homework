{
 "cells": [
  {
   "cell_type": "code",
   "execution_count": 82,
   "metadata": {},
   "outputs": [],
   "source": [
    "import pandas as pd\n",
    "import requests\n",
    "from bs4 import BeautifulSoup\n",
    "\n",
    "import datetime\n",
    "right_now = datetime.datetime.now()\n",
    "date_string = right_now.strftime(\"%B %-d, %Y\")\n",
    "\n",
    "%matplotlib inline"
   ]
  },
  {
   "cell_type": "code",
   "execution_count": 63,
   "metadata": {},
   "outputs": [],
   "source": [
    "# specify top-secret API key\n",
    "from dotenv import load_dotenv\n",
    "load_dotenv()\n",
    "import os\n",
    "\n",
    "DARKSKY_API_KEY = os.getenv(\"DARKSKY_API_KEY\")"
   ]
  },
  {
   "cell_type": "code",
   "execution_count": 65,
   "metadata": {},
   "outputs": [
    {
     "name": "stdout",
     "output_type": "stream",
     "text": [
      "1f0a5e4578aca3f6c74d96e451f6329a\n"
     ]
    }
   ],
   "source": [
    "print(DARKSKY_API_KEY)"
   ]
  },
  {
   "cell_type": "code",
   "execution_count": 66,
   "metadata": {},
   "outputs": [],
   "source": [
    "url = 'https://api.darksky.net/forecast/'+DARKSKY_API_KEY+'/40.7128,-74.0060'\n",
    "response = requests.get(url)\n",
    "data = response.json()"
   ]
  },
  {
   "cell_type": "code",
   "execution_count": 67,
   "metadata": {},
   "outputs": [
    {
     "data": {
      "text/plain": [
       "{'time': 1561348800,\n",
       " 'summary': 'Mostly cloudy throughout the day.',\n",
       " 'icon': 'partly-cloudy-day',\n",
       " 'sunriseTime': 1561368425,\n",
       " 'sunsetTime': 1561422744,\n",
       " 'moonPhase': 0.74,\n",
       " 'precipIntensity': 0.0003,\n",
       " 'precipIntensityMax': 0.0015,\n",
       " 'precipIntensityMaxTime': 1561435200,\n",
       " 'precipProbability': 0.09,\n",
       " 'precipType': 'rain',\n",
       " 'temperatureHigh': 86.22,\n",
       " 'temperatureHighTime': 1561399200,\n",
       " 'temperatureLow': 69.7,\n",
       " 'temperatureLowTime': 1561460400,\n",
       " 'apparentTemperatureHigh': 86.22,\n",
       " 'apparentTemperatureHighTime': 1561399200,\n",
       " 'apparentTemperatureLow': 70.85,\n",
       " 'apparentTemperatureLowTime': 1561460400,\n",
       " 'dewPoint': 58.18,\n",
       " 'humidity': 0.56,\n",
       " 'pressure': 1011.23,\n",
       " 'windSpeed': 5.38,\n",
       " 'windGust': 15.04,\n",
       " 'windGustTime': 1561420800,\n",
       " 'windBearing': 198,\n",
       " 'cloudCover': 0.38,\n",
       " 'uvIndex': 8,\n",
       " 'uvIndexTime': 1561392000,\n",
       " 'visibility': 9.601,\n",
       " 'ozone': 321.3,\n",
       " 'temperatureMin': 65.05,\n",
       " 'temperatureMinTime': 1561370400,\n",
       " 'temperatureMax': 86.22,\n",
       " 'temperatureMaxTime': 1561399200,\n",
       " 'apparentTemperatureMin': 65.05,\n",
       " 'apparentTemperatureMinTime': 1561370400,\n",
       " 'apparentTemperatureMax': 86.22,\n",
       " 'apparentTemperatureMaxTime': 1561399200}"
      ]
     },
     "execution_count": 67,
     "metadata": {},
     "output_type": "execute_result"
    }
   ],
   "source": [
    "data['daily']['data'][0]"
   ]
  },
  {
   "cell_type": "code",
   "execution_count": 68,
   "metadata": {},
   "outputs": [],
   "source": [
    "currently = data['currently']\n",
    "today = data['daily']['data'][0]\n",
    "temp_feeling = \"\"\n",
    "if today['temperatureHigh'] >= 80:\n",
    "    temp_feeling = \"hot\"\n",
    "elif today['temperatureHigh'] >= 65:\n",
    "    temp_feeling = \"pleasant\"\n",
    "elif today['temperatureHigh'] >= 50:\n",
    "    temp_feeling = \"cool\"\n",
    "elif today['temperatureHigh'] >= 32:\n",
    "    temp_feeling = \"cold\"\n",
    "else:\n",
    "    temp_feeling = \"freezing cold\"\n",
    "    \n",
    "rain_warning = \"\"\n",
    "if today['precipProbability'] > 0.3:\n",
    "    rain_warning = \"Bring an Umbrella or rain jacket.\"\n",
    "else:\n",
    "    rain_warning = \"Have fun out there!\""
   ]
  },
  {
   "cell_type": "code",
   "execution_count": 83,
   "metadata": {},
   "outputs": [],
   "source": [
    "subject = f\"8AM Weather Forecast: {date_string}.\"\n",
    "message = f\"Right now it is {currently['temperature']} degrees out and {currently['summary']}. Today will be {temp_feeling} with a high of {today['temperatureHigh']} and a low of {today['temperatureLow']}. {rain_warning}\""
   ]
  },
  {
   "cell_type": "code",
   "execution_count": 70,
   "metadata": {},
   "outputs": [],
   "source": [
    "MAILGUN_API_KEY = os.getenv(\"MAILGUN_API_KEY\")"
   ]
  },
  {
   "cell_type": "code",
   "execution_count": 84,
   "metadata": {},
   "outputs": [
    {
     "data": {
      "text/plain": [
       "'{\\n  \"id\": \"<20190624202602.1.96BC0208FC26EB1B@sandbox4591da35f7e9429989169172d04cb10d.mailgun.org>\",\\n  \"message\": \"Queued. Thank you.\"\\n}'"
      ]
     },
     "execution_count": 84,
     "metadata": {},
     "output_type": "execute_result"
    }
   ],
   "source": [
    "response = requests.post(\n",
    "        \"https://api.mailgun.net/v3/sandbox4591da35f7e9429989169172d04cb10d.mailgun.org/messages\",\n",
    "        auth=(\"api\", MAILGUN_API_KEY),\n",
    "        data={\"from\": \"Excited User <mailgun@sandbox4591da35f7e9429989169172d04cb10d.mailgun.org>\",\n",
    "              \"to\": [\"aseem.a.shukla@gmail.com\"],\n",
    "              \"subject\": subject,\n",
    "              \"text\": message}) \n",
    "response.text"
   ]
  },
  {
   "cell_type": "code",
   "execution_count": null,
   "metadata": {},
   "outputs": [],
   "source": []
  }
 ],
 "metadata": {
  "kernelspec": {
   "display_name": "Python 3",
   "language": "python",
   "name": "python3"
  },
  "language_info": {
   "codemirror_mode": {
    "name": "ipython",
    "version": 3
   },
   "file_extension": ".py",
   "mimetype": "text/x-python",
   "name": "python",
   "nbconvert_exporter": "python",
   "pygments_lexer": "ipython3",
   "version": "3.7.1"
  }
 },
 "nbformat": 4,
 "nbformat_minor": 2
}
